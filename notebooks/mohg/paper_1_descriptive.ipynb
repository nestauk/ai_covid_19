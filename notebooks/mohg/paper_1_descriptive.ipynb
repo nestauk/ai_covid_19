{
 "cells": [
  {
   "cell_type": "markdown",
   "metadata": {},
   "source": [
    "## Section 1: Descriptive analysis\n",
    "\n",
    "  * How much Covid and AI activity do we detect in our data sources?\n",
    "  * Is AI over or underrepresented in Covid research\n",
    "  * How has AI activity evolved over time?\n",
    "  "
   ]
  },
  {
   "cell_type": "markdown",
   "metadata": {},
   "source": [
    "## Preamble"
   ]
  },
  {
   "cell_type": "code",
   "execution_count": null,
   "metadata": {},
   "outputs": [],
   "source": [
    "%run ../notebook_preamble.ipy"
   ]
  },
  {
   "cell_type": "code",
   "execution_count": null,
   "metadata": {},
   "outputs": [],
   "source": [
    "import altair as alt\n",
    "from altair import expr, datum\n",
    "from altair import expr\n",
    "from ai_covid_19.utils.utils import *"
   ]
  },
  {
   "cell_type": "code",
   "execution_count": null,
   "metadata": {},
   "outputs": [],
   "source": [
    "fig_path = f'{project_dir}/reports/figures/mohg_figures'"
   ]
  },
  {
   "cell_type": "markdown",
   "metadata": {},
   "source": [
    "## 1. Read data"
   ]
  },
  {
   "cell_type": "code",
   "execution_count": null,
   "metadata": {},
   "outputs": [],
   "source": [
    "#Arxiv data\n",
    "rxiv = pd.read_csv(f\"{data_path}/processed/rxiv_papers_update.csv\").pipe(preview)"
   ]
  },
  {
   "cell_type": "code",
   "execution_count": null,
   "metadata": {},
   "outputs": [],
   "source": [
    "rxiv['date'] = pd.to_datetime(rxiv['created'])"
   ]
  },
  {
   "cell_type": "code",
   "execution_count": null,
   "metadata": {},
   "outputs": [],
   "source": [
    "rxiv['is_covid_ai'] = rxiv['is_covid'] & rxiv['is_ai']"
   ]
  },
  {
   "cell_type": "markdown",
   "metadata": {},
   "source": [
    "## 2. Data analysis"
   ]
  },
  {
   "cell_type": "markdown",
   "metadata": {},
   "source": [
    "### Initial exploration and processing"
   ]
  },
  {
   "cell_type": "code",
   "execution_count": null,
   "metadata": {},
   "outputs": [],
   "source": [
    "print(f\"\"\"\n",
    "total: {len(rxiv)}\n",
    "ai: {sum(rxiv['is_ai'])} ({100*np.round(np.mean(rxiv['is_ai']),3)}%)\n",
    "covid = {sum(rxiv['is_covid'])} ({100*np.round(np.mean(rxiv['is_covid']),4)}%)\n",
    "covid_ai = {np.sum(rxiv['is_covid'] & rxiv['is_ai'])} ({np.round(100*np.mean(rxiv['is_covid'] & rxiv['is_ai']),5)}%)\n",
    "\"\"\")"
   ]
  },
  {
   "cell_type": "code",
   "execution_count": null,
   "metadata": {},
   "outputs": [],
   "source": [
    "#We explore some of the trends in sources. It looks like the data collections are misaligned\n",
    "s = rxiv.groupby(['date','article_source']).size().reset_index(name='count')\n",
    "s = s.loc[pd.to_datetime(s['date'])>datetime.datetime(2020,1,1)]\n",
    "\n",
    "tr = (alt\n",
    " .Chart(s)\n",
    " .transform_window(rolling='mean(count)',frame=[-10,10],groupby=['article_source'])\n",
    " .mark_line()\n",
    " .encode(x='date',y='count',row='article_source')).properties(height=100)\n",
    "tr"
   ]
  },
  {
   "cell_type": "markdown",
   "metadata": {},
   "source": [
    "Data collection for biorXiv and medrXiv finished before arXiv. We will remove all data for which we don't have data for all sources."
   ]
  },
  {
   "cell_type": "code",
   "execution_count": null,
   "metadata": {},
   "outputs": [],
   "source": [
    "#Identify the last date for which we have biorXiv data\n",
    "rxiv.groupby('article_source')['date'].max()"
   ]
  },
  {
   "cell_type": "code",
   "execution_count": null,
   "metadata": {},
   "outputs": [],
   "source": [
    "rxiv = rxiv.loc[rxiv['date']<= datetime.datetime(2020,6,17)]"
   ]
  },
  {
   "cell_type": "markdown",
   "metadata": {},
   "source": [
    "### AI representation in Covid-19 research"
   ]
  },
  {
   "cell_type": "code",
   "execution_count": null,
   "metadata": {},
   "outputs": [],
   "source": [
    "#We calculate the share of AI in Covid-19 vs outside\n",
    "\n",
    "cov_ai_ct = pd.DataFrame(rxiv.query('year == 2020').groupby(['is_covid','is_ai']).size().reset_index(drop=False).pivot(\n",
    "    index='is_covid',columns='is_ai',values=0).apply(lambda x: x/x.sum(),axis=1).reset_index(drop=False)).melt(id_vars='is_covid')\n",
    "\n",
    "#Clean up the labels\n",
    "cov_lookup = {True:'COVID_19',False:'Not COVID_19'}\n",
    "ai_lookup = {True:'AI',False:'Not AI'}\n",
    "\n",
    "cov_ai_ct['is_covid'],cov_ai_ct['is_ai'] = [cov_ai_ct[var].map(look) for var,look in \n",
    "                                            zip(['is_covid','is_ai'],[cov_lookup,ai_lookup])]\n",
    "\n",
    "cov_ai_ct['value_label'] = [str(np.round(100*x,2))+'%' for x in cov_ai_ct['value']]"
   ]
  },
  {
   "cell_type": "code",
   "execution_count": null,
   "metadata": {},
   "outputs": [],
   "source": [
    "base = (alt.Chart(cov_ai_ct)\n",
    "        .transform_calculate(value = 100*alt.datum.value)\n",
    "        .mark_bar().encode(y=alt.Y('is_covid:N',title=''),\n",
    "                    x=alt.X('value:Q',title='% of all papers in category'),\n",
    "                    color=alt.Color('is_ai:N',title='Paper category'),\n",
    "                    order=alt.Order('is_ai:N',sort='ascending'),\n",
    "                   tooltip=['value_label:N']))\n",
    "\n",
    "base.save(f'{fig_path}/fig_1.html')\n",
    "\n",
    "base"
   ]
  },
  {
   "cell_type": "code",
   "execution_count": null,
   "metadata": {},
   "outputs": [],
   "source": [
    "print(f\"{np.round(100*cov_ai_ct['value'][3]/cov_ai_ct['value'][2],2)}%\")"
   ]
  },
  {
   "cell_type": "markdown",
   "metadata": {},
   "source": [
    "### Research trends\n",
    "\n",
    "We compare research trends in all the data, COVID-19 applications as a shrare of AI and AI applications as a share of COVID-19"
   ]
  },
  {
   "cell_type": "code",
   "execution_count": null,
   "metadata": {},
   "outputs": [],
   "source": [
    "#We focus on recent years\n",
    "rxiv_recent = rxiv.query(\"year > 2016\")\n",
    "\n",
    "#All publications in rxiv\n",
    "rxiv_daily = rxiv_recent['date'].value_counts().rename('all_xiv')"
   ]
  },
  {
   "cell_type": "code",
   "execution_count": null,
   "metadata": {},
   "outputs": [],
   "source": [
    "queries = [\"is_covid == 1\",\"is_ai == 1\",\"is_covid_ai ==1\"]\n",
    "names = ['covid','ai','covid_ai']\n",
    "\n",
    "all_series = pd.concat([rxiv_daily,\n",
    "    pd.concat([rxiv_recent.query(q)['date'].value_counts().rename(n) for n,q in zip(names,queries)],axis=1)],axis=1).fillna(0)\n",
    "\n",
    "all_series_long = all_series.reset_index(drop=False).melt(id_vars='index')"
   ]
  },
  {
   "cell_type": "code",
   "execution_count": null,
   "metadata": {},
   "outputs": [],
   "source": [
    "#Normalise the time series\n",
    "norm = 100*pd.concat([all_series[['covid']].apply(lambda x: x/all_series['all_xiv']),\n",
    "                     all_series['covid_ai']/all_series['ai'],\n",
    "                     all_series['covid_ai']/all_series['covid']],axis=1).rename(\n",
    "    columns={'covid':'Covid-19 (% all)','covid_ai':'Covid-19 AI papers (% all)',0:'Covid-19 AI papers (% AI)',\n",
    "         1:'Covid-19 AI papers (% Covid)'})\n",
    "\n",
    "#Focus on recent times\n",
    "norm_rec = norm.loc[\n",
    "    pd.to_datetime(norm.index)>datetime.datetime(2019,11,1)].reset_index(drop=False).melt(id_vars='index')"
   ]
  },
  {
   "cell_type": "code",
   "execution_count": null,
   "metadata": {},
   "outputs": [],
   "source": [
    "#Create the chart\n",
    "\n",
    "linechart = (alt.Chart(norm_rec)\n",
    " .transform_window(rolling_mean = 'mean(value)',frame=[-7,7],groupby=['variable'])\n",
    " .mark_line().encode(x=alt.X('index',title=''),\n",
    "                     y=alt.Y('rolling_mean:Q',title=''),\n",
    "                             row=alt.Row('variable',title='')).resolve_scale(y='independent')\n",
    " .properties(height=110,width=600))\n",
    "\n",
    "linechart.save(f'{fig_path}/fig_2.html')\n",
    "\n",
    "linechart"
   ]
  },
  {
   "cell_type": "markdown",
   "metadata": {},
   "source": [
    "### Representation by data source\n",
    "\n",
    "We compare shares of activity by data source"
   ]
  },
  {
   "cell_type": "code",
   "execution_count": null,
   "metadata": {},
   "outputs": [],
   "source": [
    "#Calculate shares of covid and ai activity in different data sources (arXiv, biorXiv, medrXiv)\n",
    "#Note we are only focusing on publications since 2016\n",
    "\n",
    "source_shares = 100*pd.concat(\n",
    "    [rxiv_recent.query(q)['article_source'].value_counts(normalize=True).rename(n) for n,q in zip(names,queries)],axis=1)\n",
    "\n",
    "source_shares_long = source_shares.reset_index(drop=False).melt(id_vars=['index'])\n",
    "\n",
    "variable_lookup = {'covid':'COVID-19','ai':'AI','covid_ai':'AI and COVID-19'}\n",
    "source_lookup = {'medrxiv':'medrXiv','arxiv':'arXiv','biorxiv':'biorXiv'}\n",
    "\n",
    "source_shares_long['variable'],source_shares_long['index'] = [source_shares_long[v].map(lookup) for\n",
    "                                                             v,lookup in zip(['variable','index'],\n",
    "                                                                            [variable_lookup,\n",
    "                                                                              source_lookup])]\n",
    "\n",
    "source_shares_long['value_label'] = [str(np.round(x,2))+'%' for x in source_shares_long['value']]"
   ]
  },
  {
   "cell_type": "code",
   "execution_count": null,
   "metadata": {},
   "outputs": [],
   "source": [
    "base_source = alt.Chart(\n",
    "    source_shares_long).mark_bar().encode(y=alt.Y('variable',title='Category'),\n",
    "                                          x=alt.X('value',title='% of papers in category'),\n",
    "                                          color=alt.Color('index:N',title='Source'),\n",
    "                                         tooltip=['index','value_label'])\n",
    "\n",
    "\n",
    "\n",
    "source_prop = base_source.properties(width=400,height=100)\n",
    "\n",
    "source_prop.save(f'{fig_path}/fig_3.html')\n",
    "\n",
    "source_prop"
   ]
  }
 ],
 "metadata": {
  "language_info": {
   "name": "python",
   "pygments_lexer": "ipython3"
  }
 },
 "nbformat": 4,
 "nbformat_minor": 4
}
