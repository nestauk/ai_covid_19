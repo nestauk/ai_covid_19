{
 "cells": [
  {
   "cell_type": "markdown",
   "metadata": {},
   "source": [
    "# Section 2: AI topical analysis\n",
    "\n",
    "Here we analyse the cluster membership of AI papers."
   ]
  },
  {
   "cell_type": "markdown",
   "metadata": {},
   "source": [
    "## Preamble"
   ]
  },
  {
   "cell_type": "code",
   "execution_count": null,
   "metadata": {},
   "outputs": [],
   "source": [
    "%run ../notebook_preamble.ipy"
   ]
  },
  {
   "cell_type": "code",
   "execution_count": null,
   "metadata": {},
   "outputs": [],
   "source": [
    "import re\n",
    "import altair as alt\n",
    "import random\n",
    "from toolz.curried import *\n",
    "from ai_covid_19.utils.utils import *\n",
    "from ai_covid_19.hSBM_Topicmodel.sbmtm import sbmtm\n",
    "from ai_covid_19.estimators.post_process_topsbm import *\n"
   ]
  },
  {
   "cell_type": "code",
   "execution_count": null,
   "metadata": {},
   "outputs": [],
   "source": [
    "driv = altair_visualisation_setup()"
   ]
  },
  {
   "cell_type": "code",
   "execution_count": null,
   "metadata": {},
   "outputs": [],
   "source": [
    "FIG_PATH = f\"{project_dir}/reports/figures/mohg_figures\""
   ]
  },
  {
   "cell_type": "code",
   "execution_count": null,
   "metadata": {},
   "outputs": [],
   "source": [
    "def save_altair_(fig,name):\n",
    "    \n",
    "    save_altair(fig,name,path=FIG_PATH,driver=driv)"
   ]
  },
  {
   "cell_type": "markdown",
   "metadata": {},
   "source": [
    "## 1. Read data"
   ]
  },
  {
   "cell_type": "markdown",
   "metadata": {},
   "source": [
    "### rXiv metadata"
   ]
  },
  {
   "cell_type": "code",
   "execution_count": null,
   "metadata": {},
   "outputs": [],
   "source": [
    "rxiv = pd.read_csv(f\"{data_path}/processed/rxiv_papers_update.csv\",dtype={'id':str,'is_ai':bool,\n",
    "                                                                    'is_covid':bool})\n",
    "is_cov = set(rxiv.query('is_covid == True')['id'])"
   ]
  },
  {
   "cell_type": "code",
   "execution_count": null,
   "metadata": {},
   "outputs": [],
   "source": [
    "#Load and process model\n",
    "\n",
    "with open(f\"{project_dir}/models/top_sbm/top_sbm_ai.p\",'rb') as infile:\n",
    "    model = pickle.load(infile)\n",
    "\n",
    "post = post_process_model(model,top_level=0,cl_level=1,top_thres=0.4)\n",
    "\n",
    "topics = post[0].reset_index(drop=False\n",
    "                                       ).melt(id_vars=['index','cluster'],var_name='topic',value_name='weight'\n",
    "                                       ).rename(columns={'index':'article_id'}\n",
    "                                       )\n",
    "topics['is_cov'] = topics['article_id'].isin(is_cov)"
   ]
  },
  {
   "cell_type": "code",
   "execution_count": null,
   "metadata": {},
   "outputs": [],
   "source": [
    "#Add a cluster label to each article in the the covid df\n",
    "\n",
    "ai = rxiv.query('is_ai == True')\n",
    "\n",
    "ai['cluster'] = ai['id'].map(topics.drop_duplicates('article_id').set_index('article_id')['cluster'].to_dict())"
   ]
  },
  {
   "cell_type": "code",
   "execution_count": null,
   "metadata": {},
   "outputs": [],
   "source": [
    "#Remember we only trained the model for 2019 & 2020\n",
    "ai_rec = ai.dropna(axis=0,subset=['cluster'])"
   ]
  },
  {
   "cell_type": "markdown",
   "metadata": {},
   "source": [
    "## 2. Analyse data"
   ]
  },
  {
   "cell_type": "markdown",
   "metadata": {},
   "source": [
    "### 1. Cluster content\n",
    "\n",
    "We look for salient topics in clusters in order to interpret the clusters"
   ]
  },
  {
   "cell_type": "markdown",
   "metadata": {},
   "source": [
    "#### Distribution of AI papers over topics"
   ]
  },
  {
   "cell_type": "code",
   "execution_count": null,
   "metadata": {},
   "outputs": [],
   "source": [
    "#Shares of Covid by cluster\n",
    "cluster_cov = 100*pd.crosstab(ai_rec['cluster'],ai_rec['is_covid'],\n",
    "                        normalize=1).sort_values(True,ascending=False)\n",
    "#This is the list of clusters to order the chart\n",
    "bar_order = clean_cluster(cluster_cov.index)\n",
    "\n",
    "cluster_distr = cluster_cov.reset_index(drop=False).melt(id_vars='cluster')"
   ]
  },
  {
   "cell_type": "code",
   "execution_count": null,
   "metadata": {},
   "outputs": [],
   "source": [
    "#Clean up the Cluster distribution df using various functions from utils\n",
    "cluster_distr['cluster'] = clean_cluster(cluster_distr['cluster'])\n",
    "cluster_distr['is_covid'] = convert_covid(cluster_distr['is_covid'])\n",
    "cluster_distr['value_label'] = make_pc(cluster_distr['value'])\n",
    "cluster_distr.rename(columns={'is_covid':'Category'},inplace=True)"
   ]
  },
  {
   "cell_type": "markdown",
   "metadata": {},
   "source": [
    "#### Salient topics in AI papers"
   ]
  },
  {
   "cell_type": "code",
   "execution_count": null,
   "metadata": {},
   "outputs": [],
   "source": [
    "#We look for the top topics and the topics where AI has the highest share of activity\n",
    "w = 0.1\n",
    "topic_count = topics.loc[\n",
    "    topics['weight']>w].groupby(['topic','cluster']).size().reset_index(name='count')\n",
    "\n",
    "#This is to clean variable names\n",
    "topic_count['cluster'] = clean_cluster(topic_count['cluster'])\n",
    "topic_count['topic'] = [\n",
    "    ', '.join([re.sub('-','',x.capitalize()) for x in mix.split('_')]) for mix in topic_count['topic']]\n",
    "\n",
    "#These are the top Covid topics\n",
    "covid_topics = clean_topics(list(topics.loc[\n",
    "    topics['weight']>w].groupby(['topic','is_cov']).size().reset_index(\n",
    "    name='count').pivot_table(index='topic',columns='is_cov',values='count').fillna(\n",
    "    0).assign(share=lambda x: x[True]/x[False]).sort_values('share',ascending=False).index))"
   ]
  },
  {
   "cell_type": "markdown",
   "metadata": {},
   "source": [
    "#### Chart"
   ]
  },
  {
   "cell_type": "code",
   "execution_count": null,
   "metadata": {},
   "outputs": [],
   "source": [
    "#Barchart component\n",
    "bar_b = (alt.Chart(cluster_distr)\n",
    "         .mark_bar(opacity=0.5,width=5,stroke='black',strokeWidth=1)\n",
    "         .encode(x=alt.X('cluster',sort=list(bar_order),axis=alt.Axis(labels=False,title=\"\",ticks=False)),\n",
    "                 y=alt.Y('value',title=['% of category', 'in cluster'],stack=False),\n",
    "                 color='Category:N',tooltip=['value_label:N','Category:N']))\n",
    "bar = bar_b.properties(height=100)\n",
    "\n",
    "#Heatmap component (note that we focus on the top 40 AI topics)\n",
    "hm_b = (alt.Chart(topic_count)\n",
    "        .transform_filter(alt.FieldOneOfPredicate('topic',covid_topics[:40])))\n",
    "hm = (hm_b.mark_rect(stroke='black')\n",
    "      .encode(\n",
    "          x=alt.X('cluster',sort=list(bar_order)),\n",
    "          y=alt.Y('topic',sort=list(covid_topics),title='Salient terms in topic'),\n",
    "          color=alt.Color('count:Q',title=['Number of papers', 'with topic']),\n",
    "          tooltip=['topic','cluster']))\n",
    "\n",
    "#Concatenate both\n",
    "topic_chart = alt.vconcat(bar.properties(width=600),hm.properties(\n",
    "    height=600,\n",
    "    width=600),spacing=0).configure_axisX(grid=True)\n",
    "\n",
    "save_altair_(topic_chart,'fig_4_topics')\n",
    "\n",
    "topic_chart"
   ]
  },
  {
   "cell_type": "markdown",
   "metadata": {},
   "source": [
    "### 2. Cluster provenance\n",
    "\n",
    "What is the origin (in terms of article source) for different clusters in the data?"
   ]
  },
  {
   "cell_type": "code",
   "execution_count": null,
   "metadata": {},
   "outputs": [],
   "source": [
    "source_cluster_ai = ai_rec.groupby(['article_source','is_covid','cluster']).size().pipe(preview).reset_index(\n",
    "    name='Number of Papers')"
   ]
  },
  {
   "cell_type": "code",
   "execution_count": null,
   "metadata": {},
   "outputs": [],
   "source": [
    "#Clean up variable names\n",
    "source_cluster_ai['Source'],source_cluster_ai['Category'],source_cluster_ai['Cluster'] = [\n",
    "    func(source_cluster_ai[x]) for func,x in zip([convert_source,convert_covid,clean_cluster],\n",
    "                                                 ['article_source','is_covid','cluster'])]"
   ]
  },
  {
   "cell_type": "code",
   "execution_count": null,
   "metadata": {},
   "outputs": [],
   "source": [
    "source_cluster_ai.rename(columns={'paper_count':'Number of Papers'},inplace=True)"
   ]
  },
  {
   "cell_type": "code",
   "execution_count": null,
   "metadata": {},
   "outputs": [],
   "source": [
    "#Plot vhart\n",
    "source_bar = (alt.Chart(source_cluster_ai)\n",
    "     .mark_bar().encode(\n",
    "         x=alt.X('Cluster:N',sort=list(bar_order)),\n",
    "         y=alt.Y('Number of Papers:Q'),\n",
    "         color='Source:N',\n",
    "         tooltip=['Cluster','Category','Source','Number of Papers:Q'],\n",
    "         row=alt.Row('Category',sort=['COVID-19','Not COVID-19'])))\n",
    "source_bar = source_bar.resolve_scale(y='independent').properties(width=700,height=100)\n",
    "\n",
    "save_altair_(source_bar,\"fig_5_topic_sources\")\n",
    "\n",
    "source_bar"
   ]
  },
  {
   "cell_type": "markdown",
   "metadata": {},
   "source": [
    "### 3. Export table with examples"
   ]
  },
  {
   "cell_type": "code",
   "execution_count": null,
   "metadata": {},
   "outputs": [],
   "source": [
    "#Dict to store result\n",
    "example_table_content = {'cluster':[],'salient_topics':[],'example_ai_papers':[],'example_non_ai_papers':[]}\n",
    "\n",
    "for n in np.arange(0,len(bar_order)):\n",
    "    #Add name\n",
    "    cluster_name = f\"cluster_{str(n)}\"\n",
    "    \n",
    "    #Get relevant papers\n",
    "    rel = topics.loc[topics['cluster']==cluster_name]\n",
    "    \n",
    "    #Add top topics\n",
    "    sal_tops = '\\n'.join(\n",
    "        rel.groupby('topic')['weight'].mean().sort_values(ascending=False).index[:3])\n",
    "     \n",
    "    #Get some of the papers\n",
    "    rel_indices = set(rel['article_id'])\n",
    "    \n",
    "    cov_in_cluster = cov.loc[cov.id.isin(rel_indices)]\n",
    "    \n",
    "    \n",
    "    ex_ai,ex_nai = ['\\n'.join(get_examples(\n",
    "        list(cov_in_cluster.loc[cov_in_cluster['is_ai']==val]['title']),values=2)) for val in [True,False]]\n",
    "    \n",
    "    #Store all the results\n",
    "    example_table_content['cluster'].append(cluster_name)\n",
    "    example_table_content['salient_topics'].append(sal_tops)\n",
    "    example_table_content['example_ai_papers'].append(ex_ai)\n",
    "    example_table_content['example_non_ai_papers'].append(ex_nai)\n",
    "    \n",
    "example_table = pd.DataFrame(example_table_content)\n",
    "example_table.to_csv(f\"{FIG_PATH}/table_1.csv\",mode='w')"
   ]
  },
  {
   "cell_type": "code",
   "execution_count": null,
   "metadata": {},
   "outputs": [],
   "source": [
    "example_table.head()"
   ]
  }
 ],
 "metadata": {
  "language_info": {
   "name": "python",
   "pygments_lexer": "ipython3"
  }
 },
 "nbformat": 4,
 "nbformat_minor": 4
}
