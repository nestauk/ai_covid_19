{
 "cells": [
  {
   "cell_type": "markdown",
   "metadata": {},
   "source": [
    "# Section 2: Topical analysis \n",
    " * What is the topical composition of Covid research and in what areas is AI focusing?\n",
    " * What are some examples of AI research to tackle Covid?\n",
    " * How has it evolved over time?"
   ]
  },
  {
   "cell_type": "markdown",
   "metadata": {},
   "source": [
    "## Preamble"
   ]
  },
  {
   "cell_type": "code",
   "execution_count": null,
   "metadata": {},
   "outputs": [],
   "source": [
    "%run ../notebook_preamble.ipy"
   ]
  },
  {
   "cell_type": "code",
   "execution_count": null,
   "metadata": {},
   "outputs": [],
   "source": [
    "import re\n",
    "import altair as alt\n",
    "import random\n",
    "from toolz.curried import *\n",
    "from ai_covid_19.utils.utils import *"
   ]
  },
  {
   "cell_type": "markdown",
   "metadata": {},
   "source": [
    "## 1. Read data"
   ]
  },
  {
   "cell_type": "markdown",
   "metadata": {},
   "source": [
    "### rXiv metadata"
   ]
  },
  {
   "cell_type": "code",
   "execution_count": null,
   "metadata": {},
   "outputs": [],
   "source": [
    "rxiv = pd.read_csv(f\"{data_path}/processed/rxiv_metadata.csv\",dtype={'id':str,'is_ai':bool,\n",
    "                                                                    'is_covid':bool}).pipe(preview)"
   ]
  },
  {
   "cell_type": "code",
   "execution_count": null,
   "metadata": {},
   "outputs": [],
   "source": [
    "topics = pd.read_csv(f\"{data_path}/processed/covid_semantic.csv\").pipe(preview)"
   ]
  },
  {
   "cell_type": "code",
   "execution_count": null,
   "metadata": {},
   "outputs": [],
   "source": [
    "#Create a cov df\n",
    "\n",
    "cov = rxiv.query(\"is_covid == True\").reset_index(drop=True).pipe(preview)"
   ]
  },
  {
   "cell_type": "code",
   "execution_count": null,
   "metadata": {},
   "outputs": [],
   "source": [
    "#Add a cluster label to each article in the the covid df\n",
    "cov['cluster'] = cov['id'].map(topics.drop_duplicates('article_id').set_index('article_id')['cluster'].to_dict())"
   ]
  },
  {
   "cell_type": "markdown",
   "metadata": {},
   "source": [
    "## 2. Analyse data"
   ]
  },
  {
   "cell_type": "markdown",
   "metadata": {},
   "source": [
    "### 1. Cluster content\n",
    "\n",
    "We look for salient topics in clusters in order to interpret the clusters"
   ]
  },
  {
   "cell_type": "markdown",
   "metadata": {},
   "source": [
    "#### Distribution of AI papers over topics"
   ]
  },
  {
   "cell_type": "code",
   "execution_count": null,
   "metadata": {},
   "outputs": [],
   "source": [
    "#Shares of AI by cluster\n",
    "cluster_ai = 100*pd.crosstab(cov['cluster'],cov['is_ai'],\n",
    "                        normalize=1).sort_values(True,ascending=False)\n",
    "#This is the list of clusters to order the chart\n",
    "bar_order = clean_cluster(cluster_ai.index)\n",
    "\n",
    "cluster_distr = cluster_ai.reset_index(drop=False).melt(id_vars='cluster')"
   ]
  },
  {
   "cell_type": "code",
   "execution_count": null,
   "metadata": {},
   "outputs": [],
   "source": [
    "#Clean up the Cluster distribution df using various functions from utils\n",
    "cluster_distr['cluster'] = clean_cluster(cluster_distr['cluster'])\n",
    "cluster_distr['is_ai'] = convert_ai(cluster_distr['is_ai'])\n",
    "cluster_distr['value_label'] = make_pc(cluster_distr['value'])\n",
    "cluster_distr.rename(columns={'is_ai':'Category'},inplace=True)"
   ]
  },
  {
   "cell_type": "markdown",
   "metadata": {},
   "source": [
    "#### Salient topics in AI papers"
   ]
  },
  {
   "cell_type": "code",
   "execution_count": null,
   "metadata": {},
   "outputs": [],
   "source": [
    "#We look for the top topics and the topics where AI has the highest share of activity\n",
    "w = 0.1\n",
    "topic_count = topics.loc[\n",
    "    topics['weight']>w].groupby(['topic','cluster']).size().reset_index(name='count')\n",
    "\n",
    "#This is to clean variable names\n",
    "topic_count['cluster'] = clean_cluster(topic_count['cluster'])\n",
    "topic_count['topic'] = [\n",
    "    ', '.join([re.sub('-','',x.capitalize()) for x in mix.split('_')]) for mix in topic_count['topic']]\n",
    "\n",
    "#These are the top AI topics\n",
    "ai_topics = clean_topics(list(topics.loc[\n",
    "    topics['weight']>w].groupby(['topic','is_ai']).size().reset_index(\n",
    "    name='count').pivot_table(index='topic',columns='is_ai',values='count').fillna(\n",
    "    0).assign(share=lambda x: x[True]/x[False]).sort_values('share',ascending=False).index))"
   ]
  },
  {
   "cell_type": "markdown",
   "metadata": {},
   "source": [
    "#### Chart"
   ]
  },
  {
   "cell_type": "code",
   "execution_count": null,
   "metadata": {},
   "outputs": [],
   "source": [
    "#Barchart component\n",
    "bar_b = (alt.Chart(cluster_distr)\n",
    "         .mark_bar(opacity=0.5,width=5,stroke='black',strokeWidth=1)\n",
    "         .encode(x=alt.X('cluster',sort=list(bar_order),axis=alt.Axis(labels=False,title=\"\",ticks=False)),\n",
    "                 y=alt.Y('value',title=['% of category', 'in cluster'],stack=False),\n",
    "                 color='Category:N',tooltip=['value_label:N','Category:N']))\n",
    "bar = bar_b.properties(height=100)\n",
    "\n",
    "#Heatmap component (note that we focus on the top 40 AI topics)\n",
    "hm_b = (alt.Chart(topic_count)\n",
    "        .transform_filter(alt.FieldOneOfPredicate('topic',ai_topics[:40])))\n",
    "hm = (hm_b.mark_rect(stroke='black')\n",
    "      .encode(\n",
    "          x=alt.X('cluster',sort=list(bar_order)),\n",
    "          y=alt.Y('topic',sort=list(ai_topics),title='Salient terms in topic'),\n",
    "          color=alt.Color('count:Q',title=['Number of papers', 'with topic']),\n",
    "          tooltip=['topic','cluster']))\n",
    "\n",
    "#Concatenate both\n",
    "topic_chart = alt.vconcat(bar.properties(width=400),hm.properties(\n",
    "    height=600,\n",
    "    width=420),spacing=0).configure_axisX(grid=True)\n",
    "\n",
    "topic_chart.save(f\"{fig_path}/fig_4.html\")\n",
    "topic_chart"
   ]
  },
  {
   "cell_type": "markdown",
   "metadata": {},
   "source": [
    "### 2. Cluster provenance\n",
    "\n",
    "What is the origin (in terms of article source) for different clusters in the data?"
   ]
  },
  {
   "cell_type": "code",
   "execution_count": null,
   "metadata": {},
   "outputs": [],
   "source": [
    "source_cluster_ai = cov.groupby(['article_source','is_ai','cluster']).size().pipe(preview).reset_index(\n",
    "    name='Number of Papers')"
   ]
  },
  {
   "cell_type": "code",
   "execution_count": null,
   "metadata": {},
   "outputs": [],
   "source": [
    "#Clean up variable names\n",
    "source_cluster_ai['Source'],source_cluster_ai['Category'],source_cluster_ai['Cluster'] = [\n",
    "    func(source_cluster_ai[x]) for func,x in zip([convert_source,convert_ai,clean_cluster],\n",
    "                                                 ['article_source','is_ai','cluster'])]"
   ]
  },
  {
   "cell_type": "code",
   "execution_count": null,
   "metadata": {},
   "outputs": [],
   "source": [
    "source_cluster_ai.rename(columns={'paper_count':'Number of Papers'},inplace=True)"
   ]
  },
  {
   "cell_type": "code",
   "execution_count": null,
   "metadata": {},
   "outputs": [],
   "source": [
    "#Plot vhart\n",
    "source_bar = (alt.Chart(source_cluster_ai)\n",
    "     .mark_bar().encode(\n",
    "         x=alt.X('Cluster:N',sort=list(bar_order)),\n",
    "         y=alt.Y('Number of Papers:Q'),\n",
    "         color='Source:N',\n",
    "         tooltip=['Cluster','Category','Source','Number of Papers:Q'],\n",
    "         row=alt.Row('Category',sort=['AI','Not AI'])))\n",
    "source_bar = source_bar.resolve_scale(y='independent').properties(width=400,height=100)\n",
    "\n",
    "source_bar.save(f\"{fig_path}/fig_5.html\")\n",
    "\n",
    "source_bar"
   ]
  },
  {
   "cell_type": "markdown",
   "metadata": {},
   "source": [
    "### 3. Export table with examples"
   ]
  },
  {
   "cell_type": "code",
   "execution_count": null,
   "metadata": {},
   "outputs": [],
   "source": [
    "#Dict to store result\n",
    "example_table_content = {'cluster':[],'salient_topics':[],'example_ai_papers':[],'example_non_ai_papers':[]}\n",
    "\n",
    "for n in np.arange(0,len(bar_order)):\n",
    "    #Add name\n",
    "    cluster_name = f\"cluster_{str(n)}\"\n",
    "    \n",
    "    #Get relevant papers\n",
    "    rel = topics.loc[topics['cluster']==cluster_name]\n",
    "    \n",
    "    #Add top topics\n",
    "    sal_tops = '\\n'.join(\n",
    "        rel.groupby('topic')['weight'].mean().sort_values(ascending=False).index[:3])\n",
    "     \n",
    "    #Get some of the papers\n",
    "    rel_indices = set(rel['article_id'])\n",
    "    \n",
    "    cov_in_cluster = cov.loc[cov.id.isin(rel_indices)]\n",
    "    \n",
    "    \n",
    "    ex_ai,ex_nai = ['\\n'.join(get_examples(\n",
    "        list(cov_in_cluster.loc[cov_in_cluster['is_ai']==val]['title']),values=2)) for val in [True,False]]\n",
    "    \n",
    "    #Store all the results\n",
    "    example_table_content['cluster'].append(cluster_name)\n",
    "    example_table_content['salient_topics'].append(sal_tops)\n",
    "    example_table_content['example_ai_papers'].append(ex_ai)\n",
    "    example_table_content['example_non_ai_papers'].append(ex_nai)\n",
    "    \n",
    "example_table = pd.DataFrame(example_table_content)\n",
    "example_table.to_csv(f\"{fig_path}/table_1.csv\",mode='w')"
   ]
  },
  {
   "cell_type": "code",
   "execution_count": null,
   "metadata": {},
   "outputs": [],
   "source": [
    "example_table.head()"
   ]
  }
 ],
 "metadata": {
  "language_info": {
   "name": "python",
   "pygments_lexer": "ipython3"
  }
 },
 "nbformat": 4,
 "nbformat_minor": 4
}
